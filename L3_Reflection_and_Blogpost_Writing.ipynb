{
 "cells": [
  {
   "cell_type": "markdown",
   "id": "fc3024e2",
   "metadata": {},
   "source": [
    "# Lesson 3: Reflection and Blogpost Writing"
   ]
  },
  {
   "cell_type": "markdown",
   "id": "3b0cc42f",
   "metadata": {},
   "source": [
    "## Setup"
   ]
  },
  {
   "cell_type": "code",
   "execution_count": 1,
   "id": "96d39be0-eaf3-456d-8613-ba21099ed36b",
   "metadata": {
    "height": 30
   },
   "outputs": [],
   "source": [
    "import os\n",
    "from dotenv import load_dotenv\n",
    "llm_config = {\n",
    "    \"config_list\": [{ 'model': 'gpt3516k',\n",
    "        'api_key': ''+(os.environ.get('AZURE_OPENAI_KEY'))+'',\n",
    "        'base_url':  ''+(os.environ.get('AZURE_OPENAI_ENDPOINT'))+'',\n",
    "        'api_type': 'azure',\n",
    "        'api_version': '2024-02-01'}]\n",
    "        }"
   ]
  },
  {
   "cell_type": "markdown",
   "id": "0969e6bb",
   "metadata": {},
   "source": [
    "## The task!"
   ]
  },
  {
   "cell_type": "code",
   "execution_count": 2,
   "id": "e8074032-3690-4de9-ad08-ea8323cb441b",
   "metadata": {
    "height": 115
   },
   "outputs": [],
   "source": [
    "task = '''\n",
    "        Write a concise but engaging blogpost about\n",
    "       DeepLearning.AI. Make sure the blogpost is\n",
    "       within 100 words.\n",
    "       '''\n"
   ]
  },
  {
   "cell_type": "markdown",
   "id": "1987f023",
   "metadata": {},
   "source": [
    "## Create a writer agent"
   ]
  },
  {
   "cell_type": "code",
   "execution_count": 3,
   "id": "fe0f0a47-a9fe-43a0-b7b1-79922e4c4ac8",
   "metadata": {
    "height": 198
   },
   "outputs": [],
   "source": [
    "import autogen\n",
    "\n",
    "writer = autogen.AssistantAgent(\n",
    "    name=\"Writer\",\n",
    "    system_message=\"You are a writer. You write engaging and concise \" \n",
    "        \"blogpost (with title) on given topics. You must polish your \"\n",
    "        \"writing based on the feedback you receive and give a refined \"\n",
    "        \"version. Only return your final work without additional comments.\",\n",
    "    llm_config=llm_config,\n",
    ")"
   ]
  },
  {
   "cell_type": "code",
   "execution_count": 4,
   "id": "7c7b4d8d-40f7-4a05-8958-25d20054de3a",
   "metadata": {
    "height": 45
   },
   "outputs": [],
   "source": [
    "reply = writer.generate_reply(messages=[{\"content\": task, \"role\": \"user\"}])"
   ]
  },
  {
   "cell_type": "code",
   "execution_count": 5,
   "id": "c501c97d-e338-4f36-a384-6ec45983cf77",
   "metadata": {
    "height": 30
   },
   "outputs": [
    {
     "name": "stdout",
     "output_type": "stream",
     "text": [
      "DeepLearning.AI: Unlocking the Potential of Artificial Intelligence\n",
      "\n",
      "DeepLearning.AI is revolutionizing the world of artificial intelligence. With its cutting-edge deep learning technologies, this organization is paving the way for unprecedented advancements in various industries. From self-driving cars to personalized medicine, DeepLearning.AI is empowering companies to harness the true potential of AI. With an expert team of researchers and engineers, they are at the forefront of AI innovation. Join the journey towards a smarter future with DeepLearning.AI and unlock the infinite possibilities of AI.\n"
     ]
    }
   ],
   "source": [
    "print(reply)"
   ]
  },
  {
   "cell_type": "markdown",
   "id": "49658114",
   "metadata": {},
   "source": [
    "## Adding reflection \n",
    "\n",
    "Create a critic agent to reflect on the work of the writer agent."
   ]
  },
  {
   "cell_type": "code",
   "execution_count": 6,
   "id": "c7fcd1c7-51ec-4915-8e97-bac03565c4c7",
   "metadata": {
    "height": 164
   },
   "outputs": [],
   "source": [
    "critic = autogen.AssistantAgent(\n",
    "    name=\"Critic\",\n",
    "    is_termination_msg=lambda x: x.get(\"content\", \"\").find(\"TERMINATE\") >= 0,\n",
    "    llm_config=llm_config,\n",
    "    system_message=\"You are a critic. You review the work of \"\n",
    "                \"the writer and provide constructive \"\n",
    "                \"feedback to help improve the quality of the content.\",\n",
    ")"
   ]
  },
  {
   "cell_type": "code",
   "execution_count": 7,
   "id": "899d5fdb-6081-470b-b287-8cf8b8142d0d",
   "metadata": {
    "height": 115
   },
   "outputs": [
    {
     "name": "stdout",
     "output_type": "stream",
     "text": [
      "\u001b[33mCritic\u001b[0m (to Writer):\n",
      "\n",
      "\n",
      "        Write a concise but engaging blogpost about\n",
      "       DeepLearning.AI. Make sure the blogpost is\n",
      "       within 100 words.\n",
      "       \n",
      "\n",
      "--------------------------------------------------------------------------------\n",
      "\u001b[33mWriter\u001b[0m (to Critic):\n",
      "\n",
      "DeepLearning.AI: Unlocking the Potential of Artificial Intelligence\n",
      "\n",
      "DeepLearning.AI is revolutionizing the world of artificial intelligence. With its cutting-edge deep learning technologies, this organization is paving the way for unprecedented advancements in various industries. From self-driving cars to personalized medicine, DeepLearning.AI is empowering companies to harness the true potential of AI. With an expert team of researchers and engineers, they are at the forefront of AI innovation. Join the journey towards a smarter future with DeepLearning.AI and unlock the infinite possibilities of AI.\n",
      "\n",
      "--------------------------------------------------------------------------------\n",
      "\u001b[33mCritic\u001b[0m (to Writer):\n",
      "\n",
      "Title: DeepLearning.AI: Unleashing the Power of Artificial Intelligence\n",
      "\n",
      "In the fast-paced world of artificial intelligence, DeepLearning.AI stands as a trailblazer, transforming industries with its state-of-the-art deep learning technologies. From autonomous vehicles to personalized healthcare, this organization is empowering companies to fully leverage the potential of AI. Backed by a team of brilliant researchers and engineers, DeepLearning.AI is at the forefront of AI innovation. Join them on this exciting journey towards a smarter future, where the possibilities with AI are endless. Experience the power of DeepLearning.AI and unlock the true potential of artificial intelligence.\n",
      "\n",
      "--------------------------------------------------------------------------------\n",
      "\u001b[33mWriter\u001b[0m (to Critic):\n",
      "\n",
      "DeepLearning.AI: Unleashing the Power of Artificial Intelligence\n",
      "\n",
      "In the fast-paced world of artificial intelligence, DeepLearning.AI stands as a trailblazer, transforming industries with its state-of-the-art deep learning technologies. From autonomous vehicles to personalized healthcare, this organization is empowering companies to fully leverage the potential of AI. Backed by a team of brilliant researchers and engineers, DeepLearning.AI is at the forefront of AI innovation. Join them on this exciting journey towards a smarter future, where the possibilities with AI are endless. Experience the power of DeepLearning.AI and unlock the true potential of artificial intelligence.\n",
      "\n",
      "--------------------------------------------------------------------------------\n"
     ]
    }
   ],
   "source": [
    "res = critic.initiate_chat(\n",
    "    recipient=writer,\n",
    "    message=task,\n",
    "    max_turns=2,\n",
    "    summary_method=\"last_msg\"\n",
    ")"
   ]
  },
  {
   "cell_type": "markdown",
   "id": "e7b76449",
   "metadata": {},
   "source": [
    "## Nested chat"
   ]
  },
  {
   "cell_type": "code",
   "execution_count": 8,
   "id": "401ecf92-63e9-40ff-aeed-1c404352e4ab",
   "metadata": {
    "height": 215
   },
   "outputs": [],
   "source": [
    "SEO_reviewer = autogen.AssistantAgent(\n",
    "    name=\"SEO Reviewer\",\n",
    "    llm_config=llm_config,\n",
    "    system_message=\"You are an SEO reviewer, known for \"\n",
    "        \"your ability to optimize content for search engines, \"\n",
    "        \"ensuring that it ranks well and attracts organic traffic. \" \n",
    "        \"Make sure your suggestion is concise (within 3 bullet points), \"\n",
    "        \"concrete and to the point. \"\n",
    "        \"Begin the review by stating your role.\",\n",
    ")\n"
   ]
  },
  {
   "cell_type": "code",
   "execution_count": 9,
   "id": "f85acb81-7ab9-4c84-b8bb-6fbae3dce848",
   "metadata": {
    "height": 198
   },
   "outputs": [],
   "source": [
    "legal_reviewer = autogen.AssistantAgent(\n",
    "    name=\"Legal Reviewer\",\n",
    "    llm_config=llm_config,\n",
    "    system_message=\"You are a legal reviewer, known for \"\n",
    "        \"your ability to ensure that content is legally compliant \"\n",
    "        \"and free from any potential legal issues. \"\n",
    "        \"Make sure your suggestion is concise (within 3 bullet points), \"\n",
    "        \"concrete and to the point. \"\n",
    "        \"Begin the review by stating your role.\",\n",
    ")"
   ]
  },
  {
   "cell_type": "code",
   "execution_count": 10,
   "id": "d46a177a-8088-4956-8d2b-3e916b8ca5e9",
   "metadata": {
    "height": 198
   },
   "outputs": [],
   "source": [
    "ethics_reviewer = autogen.AssistantAgent(\n",
    "    name=\"Ethics Reviewer\",\n",
    "    llm_config=llm_config,\n",
    "    system_message=\"You are an ethics reviewer, known for \"\n",
    "        \"your ability to ensure that content is ethically sound \"\n",
    "        \"and free from any potential ethical issues. \" \n",
    "        \"Make sure your suggestion is concise (within 3 bullet points), \"\n",
    "        \"concrete and to the point. \"\n",
    "        \"Begin the review by stating your role. \",\n",
    ")"
   ]
  },
  {
   "cell_type": "code",
   "execution_count": 11,
   "id": "a7b2ad6f-8ba6-436a-9459-14ffbe8a32d3",
   "metadata": {
    "height": 130
   },
   "outputs": [],
   "source": [
    "meta_reviewer = autogen.AssistantAgent(\n",
    "    name=\"Meta Reviewer\",\n",
    "    llm_config=llm_config,\n",
    "    system_message=\"You are a meta reviewer, you aggragate and review \"\n",
    "    \"the work of other reviewers and give a final suggestion on the content.\",\n",
    ")"
   ]
  },
  {
   "cell_type": "markdown",
   "id": "913beca1",
   "metadata": {},
   "source": [
    "## Orchestrate the nested chats to solve the task"
   ]
  },
  {
   "cell_type": "code",
   "execution_count": 12,
   "id": "a11a70c7-19ca-4e5a-ad3d-f2b481fb5915",
   "metadata": {
    "height": 555
   },
   "outputs": [],
   "source": [
    "def reflection_message(recipient, messages, sender, config):\n",
    "    return f'''Review the following content. \n",
    "            \\n\\n {recipient.chat_messages_for_summary(sender)[-1]['content']}'''\n",
    "\n",
    "review_chats = [\n",
    "    {\n",
    "     \"recipient\": SEO_reviewer, \n",
    "     \"message\": reflection_message, \n",
    "     \"summary_method\": \"reflection_with_llm\",\n",
    "     \"summary_args\": {\"summary_prompt\" : \n",
    "        \"Return review into as JSON object only:\"\n",
    "        \"{'Reviewer': '', 'Review': ''}. Here Reviewer should be your role\",},\n",
    "     \"max_turns\": 1},\n",
    "    {\n",
    "    \"recipient\": legal_reviewer, \"message\": reflection_message, \n",
    "     \"summary_method\": \"reflection_with_llm\",\n",
    "     \"summary_args\": {\"summary_prompt\" : \n",
    "        \"Return review into as JSON object only:\"\n",
    "        \"{'Reviewer': '', 'Review': ''}.\",},\n",
    "     \"max_turns\": 1},\n",
    "    {\"recipient\": ethics_reviewer, \"message\": reflection_message, \n",
    "     \"summary_method\": \"reflection_with_llm\",\n",
    "     \"summary_args\": {\"summary_prompt\" : \n",
    "        \"Return review into as JSON object only:\"\n",
    "        \"{'reviewer': '', 'review': ''}\",},\n",
    "     \"max_turns\": 1},\n",
    "     {\"recipient\": meta_reviewer, \n",
    "      \"message\": \"Aggregrate feedback from all reviewers and give final suggestions on the writing.\", \n",
    "     \"max_turns\": 1},\n",
    "]\n"
   ]
  },
  {
   "cell_type": "code",
   "execution_count": 13,
   "id": "b3a40b66-5061-460d-ad9d-c0dbcfbba2e9",
   "metadata": {
    "height": 81
   },
   "outputs": [],
   "source": [
    "critic.register_nested_chats(\n",
    "    review_chats,\n",
    "    trigger=writer,\n",
    ")"
   ]
  },
  {
   "cell_type": "markdown",
   "id": "43b8797d",
   "metadata": {},
   "source": [
    "**Note**: You might get a slightly different response than what's shown in the video. Feel free to try different task."
   ]
  },
  {
   "cell_type": "code",
   "execution_count": 14,
   "id": "3b8dcac3-1e72-43b7-9d5a-1be740f6efd5",
   "metadata": {
    "height": 115
   },
   "outputs": [
    {
     "name": "stdout",
     "output_type": "stream",
     "text": [
      "\u001b[33mCritic\u001b[0m (to Writer):\n",
      "\n",
      "\n",
      "        Write a concise but engaging blogpost about\n",
      "       DeepLearning.AI. Make sure the blogpost is\n",
      "       within 100 words.\n",
      "       \n",
      "\n",
      "--------------------------------------------------------------------------------\n",
      "\u001b[33mWriter\u001b[0m (to Critic):\n",
      "\n",
      "DeepLearning.AI: Unlocking the Potential of Artificial Intelligence\n",
      "\n",
      "DeepLearning.AI is revolutionizing the world of artificial intelligence. With its cutting-edge deep learning technologies, this organization is paving the way for unprecedented advancements in various industries. From self-driving cars to personalized medicine, DeepLearning.AI is empowering companies to harness the true potential of AI. With an expert team of researchers and engineers, they are at the forefront of AI innovation. Join the journey towards a smarter future with DeepLearning.AI and unlock the infinite possibilities of AI.\n",
      "\n",
      "--------------------------------------------------------------------------------\n",
      "\u001b[34m\n",
      "********************************************************************************\u001b[0m\n",
      "\u001b[34mStarting a new chat....\u001b[0m\n",
      "\u001b[34m\n",
      "********************************************************************************\u001b[0m\n",
      "\u001b[33mCritic\u001b[0m (to SEO Reviewer):\n",
      "\n",
      "Review the following content. \n",
      "            \n",
      "\n",
      " DeepLearning.AI: Unlocking the Potential of Artificial Intelligence\n",
      "\n",
      "DeepLearning.AI is revolutionizing the world of artificial intelligence. With its cutting-edge deep learning technologies, this organization is paving the way for unprecedented advancements in various industries. From self-driving cars to personalized medicine, DeepLearning.AI is empowering companies to harness the true potential of AI. With an expert team of researchers and engineers, they are at the forefront of AI innovation. Join the journey towards a smarter future with DeepLearning.AI and unlock the infinite possibilities of AI.\n",
      "\n",
      "--------------------------------------------------------------------------------\n",
      "\u001b[33mSEO Reviewer\u001b[0m (to Critic):\n",
      "\n",
      "As an SEO reviewer, I would suggest the following improvements for optimizing the content:\n",
      "\n",
      "1. Include targeted keywords: Incorporate relevant keywords such as \"artificial intelligence revolution,\" \"cutting-edge deep learning technologies,\" and \"AI innovation\" to improve search engine visibility.\n",
      "\n",
      "2. Focus on user benefits: Highlight the practical benefits of DeepLearning.AI's solutions, such as improved efficiency, cost savings, and enhanced capabilities in industries like self-driving cars and personalized medicine.\n",
      "\n",
      "3. Call-to-action: Add a clear call-to-action, such as \"Join the journey towards a smarter future with DeepLearning.AI\" to encourage user engagement and conversion.\n",
      "\n",
      "--------------------------------------------------------------------------------\n",
      "\u001b[34m\n",
      "********************************************************************************\u001b[0m\n",
      "\u001b[34mStarting a new chat....\u001b[0m\n",
      "\u001b[34m\n",
      "********************************************************************************\u001b[0m\n",
      "\u001b[33mCritic\u001b[0m (to Legal Reviewer):\n",
      "\n",
      "Review the following content. \n",
      "            \n",
      "\n",
      " DeepLearning.AI: Unlocking the Potential of Artificial Intelligence\n",
      "\n",
      "DeepLearning.AI is revolutionizing the world of artificial intelligence. With its cutting-edge deep learning technologies, this organization is paving the way for unprecedented advancements in various industries. From self-driving cars to personalized medicine, DeepLearning.AI is empowering companies to harness the true potential of AI. With an expert team of researchers and engineers, they are at the forefront of AI innovation. Join the journey towards a smarter future with DeepLearning.AI and unlock the infinite possibilities of AI.\n",
      "Context: \n",
      "{'Reviewer': 'SEO reviewer', 'Review': 'As an SEO reviewer, I would suggest the following improvements for optimizing the content:\\n\\n1. Include targeted keywords: Incorporate relevant keywords such as \"artificial intelligence revolution,\" \"cutting-edge deep learning technologies,\" and \"AI innovation\" to improve search engine visibility.\\n\\n2. Focus on user benefits: Highlight the practical benefits of DeepLearning.AI\\'s solutions, such as improved efficiency, cost savings, and enhanced capabilities in industries like self-driving cars and personalized medicine.\\n\\n3. Call-to-action: Add a clear call-to-action, such as \"Join the journey towards a smarter future with DeepLearning.AI\" to encourage user engagement and conversion.'}\n",
      "\n",
      "--------------------------------------------------------------------------------\n",
      "\u001b[33mLegal Reviewer\u001b[0m (to Critic):\n",
      "\n",
      "As a legal reviewer, I would suggest the following improvements for the content:\n",
      "\n",
      "1. Review claims and ensure they are supported: Check the accuracy and validity of statements like \"revolutionizing the world of artificial intelligence\" and \"unprecedented advancements\". Ensure that appropriate evidence or sources are provided to support these claims.\n",
      "\n",
      "2. Check for potential misleading statements: Review the content for any statements that might be misleading or deceptive, such as exaggerated claims or promises of specific outcomes. Ensure that the content accurately represents the capabilities and limitations of DeepLearning.AI's technologies.\n",
      "\n",
      "3. Review for compliance with laws and regulations: Ensure that the content complies with relevant laws and regulations, such as those related to advertising, intellectual property, and data privacy. Check for any potential legal issues or risks associated with the content.\n",
      "\n",
      "--------------------------------------------------------------------------------\n",
      "\u001b[34m\n",
      "********************************************************************************\u001b[0m\n",
      "\u001b[34mStarting a new chat....\u001b[0m\n",
      "\u001b[34m\n",
      "********************************************************************************\u001b[0m\n",
      "\u001b[33mCritic\u001b[0m (to Ethics Reviewer):\n",
      "\n",
      "Review the following content. \n",
      "            \n",
      "\n",
      " DeepLearning.AI: Unlocking the Potential of Artificial Intelligence\n",
      "\n",
      "DeepLearning.AI is revolutionizing the world of artificial intelligence. With its cutting-edge deep learning technologies, this organization is paving the way for unprecedented advancements in various industries. From self-driving cars to personalized medicine, DeepLearning.AI is empowering companies to harness the true potential of AI. With an expert team of researchers and engineers, they are at the forefront of AI innovation. Join the journey towards a smarter future with DeepLearning.AI and unlock the infinite possibilities of AI.\n",
      "Context: \n",
      "{'Reviewer': 'SEO reviewer', 'Review': 'As an SEO reviewer, I would suggest the following improvements for optimizing the content:\\n\\n1. Include targeted keywords: Incorporate relevant keywords such as \"artificial intelligence revolution,\" \"cutting-edge deep learning technologies,\" and \"AI innovation\" to improve search engine visibility.\\n\\n2. Focus on user benefits: Highlight the practical benefits of DeepLearning.AI\\'s solutions, such as improved efficiency, cost savings, and enhanced capabilities in industries like self-driving cars and personalized medicine.\\n\\n3. Call-to-action: Add a clear call-to-action, such as \"Join the journey towards a smarter future with DeepLearning.AI\" to encourage user engagement and conversion.'}\n",
      "{'Reviewer': 'Legal reviewer', 'Review': 'As a legal reviewer, I would suggest the following improvements for the content:\\n\\n1. Review claims and ensure they are supported: Check the accuracy and validity of statements like \"revolutionizing the world of artificial intelligence\" and \"unprecedented advancements\". Ensure that appropriate evidence or sources are provided to support these claims.\\n\\n2. Check for potential misleading statements: Review the content for any statements that might be misleading or deceptive, such as exaggerated claims or promises of specific outcomes. Ensure that the content accurately represents the capabilities and limitations of DeepLearning.AI\\'s technologies.\\n\\n3. Review for compliance with laws and regulations: Ensure that the content complies with relevant laws and regulations, such as those related to advertising, intellectual property, and data privacy. Check for any potential legal issues or risks associated with the content.'}\n",
      "\n",
      "--------------------------------------------------------------------------------\n",
      "\u001b[33mEthics Reviewer\u001b[0m (to Critic):\n",
      "\n",
      "As an ethics reviewer, I would suggest the following improvements for the content:\n",
      "\n",
      "1. Avoid hyperbolic language: Remove phrases like \"revolutionizing the world of artificial intelligence\" and \"unprecedented advancements\" to avoid potential misleading or exaggerated claims.\n",
      "\n",
      "2. Verify accuracy of statements: Ensure that the claims made about DeepLearning.AI's technologies are supported by evidence or reputable sources to maintain credibility.\n",
      "\n",
      "3. Ethical implications of AI: Consider including a brief discussion about the ethical implications of AI and how DeepLearning.AI addresses them, to ensure transparency and accountability.\n",
      "\n",
      "--------------------------------------------------------------------------------\n",
      "\u001b[34m\n",
      "********************************************************************************\u001b[0m\n",
      "\u001b[34mStarting a new chat....\u001b[0m\n",
      "\u001b[34m\n",
      "********************************************************************************\u001b[0m\n",
      "\u001b[33mCritic\u001b[0m (to Meta Reviewer):\n",
      "\n",
      "Aggregrate feedback from all reviewers and give final suggestions on the writing.\n",
      "Context: \n",
      "{'Reviewer': 'SEO reviewer', 'Review': 'As an SEO reviewer, I would suggest the following improvements for optimizing the content:\\n\\n1. Include targeted keywords: Incorporate relevant keywords such as \"artificial intelligence revolution,\" \"cutting-edge deep learning technologies,\" and \"AI innovation\" to improve search engine visibility.\\n\\n2. Focus on user benefits: Highlight the practical benefits of DeepLearning.AI\\'s solutions, such as improved efficiency, cost savings, and enhanced capabilities in industries like self-driving cars and personalized medicine.\\n\\n3. Call-to-action: Add a clear call-to-action, such as \"Join the journey towards a smarter future with DeepLearning.AI\" to encourage user engagement and conversion.'}\n",
      "{'Reviewer': 'Legal reviewer', 'Review': 'As a legal reviewer, I would suggest the following improvements for the content:\\n\\n1. Review claims and ensure they are supported: Check the accuracy and validity of statements like \"revolutionizing the world of artificial intelligence\" and \"unprecedented advancements\". Ensure that appropriate evidence or sources are provided to support these claims.\\n\\n2. Check for potential misleading statements: Review the content for any statements that might be misleading or deceptive, such as exaggerated claims or promises of specific outcomes. Ensure that the content accurately represents the capabilities and limitations of DeepLearning.AI\\'s technologies.\\n\\n3. Review for compliance with laws and regulations: Ensure that the content complies with relevant laws and regulations, such as those related to advertising, intellectual property, and data privacy. Check for any potential legal issues or risks associated with the content.'}\n",
      "{\n",
      "  'reviewer': 'Ethics reviewer',\n",
      "  'review': 'Avoid hyperbolic language: Remove phrases like \"revolutionizing the world of artificial intelligence\" and \"unprecedented advancements\" to avoid potential misleading or exaggerated claims.\\n\\nVerify accuracy of statements: Ensure that the claims made about DeepLearning.AI\\'s technologies are supported by evidence or reputable sources to maintain credibility.\\n\\nEthical implications of AI: Consider including a brief discussion about the ethical implications of AI and how DeepLearning.AI addresses them, to ensure transparency and accountability.'\n",
      "}\n",
      "\n",
      "--------------------------------------------------------------------------------\n",
      "\u001b[33mMeta Reviewer\u001b[0m (to Critic):\n",
      "\n",
      "Aggregated feedback from all reviewers:\n",
      "\n",
      "1. Include targeted keywords: Incorporate relevant keywords such as \"artificial intelligence revolution,\" \"cutting-edge deep learning technologies,\" and \"AI innovation\" to improve search engine visibility.\n",
      "2. Focus on user benefits: Highlight the practical benefits of DeepLearning.AI's solutions, such as improved efficiency, cost savings, and enhanced capabilities in industries like self-driving cars and personalized medicine.\n",
      "3. Call-to-action: Add a clear call-to-action, such as \"Join the journey towards a smarter future with DeepLearning.AI\" to encourage user engagement and conversion.\n",
      "4. Review claims and ensure they are supported: Check the accuracy and validity of statements like \"revolutionizing the world of artificial intelligence\" and \"unprecedented advancements\". Ensure that appropriate evidence or sources are provided to support these claims.\n",
      "5. Check for potential misleading statements: Review the content for any statements that might be misleading or deceptive, such as exaggerated claims or promises of specific outcomes. Ensure that the content accurately represents the capabilities and limitations of DeepLearning.AI's technologies.\n",
      "6. Review for compliance with laws and regulations: Ensure that the content complies with relevant laws and regulations, such as those related to advertising, intellectual property, and data privacy. Check for any potential legal issues or risks associated with the content.\n",
      "7. Avoid hyperbolic language: Remove phrases like \"revolutionizing the world of artificial intelligence\" and \"unprecedented advancements\" to avoid potential misleading or exaggerated claims.\n",
      "8. Verify accuracy of statements: Ensure that the claims made about DeepLearning.AI's technologies are supported by evidence or reputable sources to maintain credibility.\n",
      "9. Ethical implications of AI: Consider including a brief discussion about the ethical implications of AI and how DeepLearning.AI addresses them, to ensure transparency and accountability.\n",
      "\n",
      "Final suggestions for the writing:\n",
      "1. Incorporate the suggested targeted keywords to improve search engine visibility.\n",
      "2. Highlight the practical benefits of DeepLearning.AI's solutions, emphasizing efficiency, cost savings, and enhanced capabilities in various industries.\n",
      "3. Add a clear call-to-action to encourage user engagement and conversion.\n",
      "4. Ensure that all claims made are supported by evidence or reputable sources.\n",
      "5. Avoid any potentially misleading or exaggerated statements.\n",
      "6. Review the content for compliance with relevant laws, regulations, and potential legal risks.\n",
      "7. Remove hyperbolic language to maintain credibility.\n",
      "8. Verify the accuracy of all statements.\n",
      "9. Include a brief discussion about the ethical implications of AI and how DeepLearning.AI addresses them.\n",
      "\n",
      "By incorporating these suggestions, the writing will be more optimized, accurate, credible, and compliant with legal and ethical standards.\n",
      "\n",
      "--------------------------------------------------------------------------------\n",
      "\u001b[33mCritic\u001b[0m (to Writer):\n",
      "\n",
      "Aggregated feedback from all reviewers:\n",
      "\n",
      "1. Include targeted keywords: Incorporate relevant keywords such as \"artificial intelligence revolution,\" \"cutting-edge deep learning technologies,\" and \"AI innovation\" to improve search engine visibility.\n",
      "2. Focus on user benefits: Highlight the practical benefits of DeepLearning.AI's solutions, such as improved efficiency, cost savings, and enhanced capabilities in industries like self-driving cars and personalized medicine.\n",
      "3. Call-to-action: Add a clear call-to-action, such as \"Join the journey towards a smarter future with DeepLearning.AI\" to encourage user engagement and conversion.\n",
      "4. Review claims and ensure they are supported: Check the accuracy and validity of statements like \"revolutionizing the world of artificial intelligence\" and \"unprecedented advancements\". Ensure that appropriate evidence or sources are provided to support these claims.\n",
      "5. Check for potential misleading statements: Review the content for any statements that might be misleading or deceptive, such as exaggerated claims or promises of specific outcomes. Ensure that the content accurately represents the capabilities and limitations of DeepLearning.AI's technologies.\n",
      "6. Review for compliance with laws and regulations: Ensure that the content complies with relevant laws and regulations, such as those related to advertising, intellectual property, and data privacy. Check for any potential legal issues or risks associated with the content.\n",
      "7. Avoid hyperbolic language: Remove phrases like \"revolutionizing the world of artificial intelligence\" and \"unprecedented advancements\" to avoid potential misleading or exaggerated claims.\n",
      "8. Verify accuracy of statements: Ensure that the claims made about DeepLearning.AI's technologies are supported by evidence or reputable sources to maintain credibility.\n",
      "9. Ethical implications of AI: Consider including a brief discussion about the ethical implications of AI and how DeepLearning.AI addresses them, to ensure transparency and accountability.\n",
      "\n",
      "Final suggestions for the writing:\n",
      "1. Incorporate the suggested targeted keywords to improve search engine visibility.\n",
      "2. Highlight the practical benefits of DeepLearning.AI's solutions, emphasizing efficiency, cost savings, and enhanced capabilities in various industries.\n",
      "3. Add a clear call-to-action to encourage user engagement and conversion.\n",
      "4. Ensure that all claims made are supported by evidence or reputable sources.\n",
      "5. Avoid any potentially misleading or exaggerated statements.\n",
      "6. Review the content for compliance with relevant laws, regulations, and potential legal risks.\n",
      "7. Remove hyperbolic language to maintain credibility.\n",
      "8. Verify the accuracy of all statements.\n",
      "9. Include a brief discussion about the ethical implications of AI and how DeepLearning.AI addresses them.\n",
      "\n",
      "By incorporating these suggestions, the writing will be more optimized, accurate, credible, and compliant with legal and ethical standards.\n",
      "\n",
      "--------------------------------------------------------------------------------\n",
      "\u001b[33mWriter\u001b[0m (to Critic):\n",
      "\n",
      "DeepLearning.AI: Unlocking the Potential of Artificial Intelligence\n",
      "\n",
      "DeepLearning.AI is at the forefront of the artificial intelligence revolution. With its cutting-edge deep learning technologies, this organization is driving incredible advancements in various industries. From self-driving cars to personalized medicine, DeepLearning.AI empowers companies with improved efficiency, cost savings, and enhanced capabilities. With an expert team of researchers and engineers, they are leading AI innovation. Join the journey towards a smarter future by unleashing the infinite possibilities of AI with DeepLearning.AI. Experience the benefits and be part of the AI transformation.\n",
      "\n",
      "--------------------------------------------------------------------------------\n"
     ]
    }
   ],
   "source": [
    "res = critic.initiate_chat(\n",
    "    recipient=writer,\n",
    "    message=task,\n",
    "    max_turns=2,\n",
    "    summary_method=\"last_msg\"\n",
    ")"
   ]
  },
  {
   "cell_type": "markdown",
   "id": "c5c833b0",
   "metadata": {},
   "source": [
    "## Get the summary"
   ]
  },
  {
   "cell_type": "code",
   "execution_count": 15,
   "id": "68ef82ed-f102-4964-b7be-60e2f258a39b",
   "metadata": {
    "height": 30
   },
   "outputs": [
    {
     "name": "stdout",
     "output_type": "stream",
     "text": [
      "DeepLearning.AI: Unlocking the Potential of Artificial Intelligence\n",
      "\n",
      "DeepLearning.AI is at the forefront of the artificial intelligence revolution. With its cutting-edge deep learning technologies, this organization is driving incredible advancements in various industries. From self-driving cars to personalized medicine, DeepLearning.AI empowers companies with improved efficiency, cost savings, and enhanced capabilities. With an expert team of researchers and engineers, they are leading AI innovation. Join the journey towards a smarter future by unleashing the infinite possibilities of AI with DeepLearning.AI. Experience the benefits and be part of the AI transformation.\n"
     ]
    }
   ],
   "source": [
    "print(res.summary)"
   ]
  }
 ],
 "metadata": {
  "kernelspec": {
   "display_name": "Python 3 (ipykernel)",
   "language": "python",
   "name": "python3"
  },
  "language_info": {
   "codemirror_mode": {
    "name": "ipython",
    "version": 3
   },
   "file_extension": ".py",
   "mimetype": "text/x-python",
   "name": "python",
   "nbconvert_exporter": "python",
   "pygments_lexer": "ipython3",
   "version": "3.11.9"
  }
 },
 "nbformat": 4,
 "nbformat_minor": 5
}
